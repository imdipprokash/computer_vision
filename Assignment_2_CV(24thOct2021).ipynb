{
  "nbformat": 4,
  "nbformat_minor": 0,
  "metadata": {
    "colab": {
      "name": "Assignment-2_CV(24thOct2021).ipynb",
      "provenance": [],
      "collapsed_sections": []
    },
    "kernelspec": {
      "name": "python3",
      "display_name": "Python 3"
    },
    "language_info": {
      "name": "python"
    }
  },
  "cells": [
    {
      "cell_type": "code",
      "metadata": {
        "id": "J-nlhdYoD6x-"
      },
      "source": [
        "import numpy as np"
      ],
      "execution_count": 71,
      "outputs": []
    },
    {
      "cell_type": "code",
      "metadata": {
        "id": "N3AqMJ-jD84Q"
      },
      "source": [
        "k = ([-1,-1,-1],[-1,4,-1],[-1,-1,-1])\n",
        "k=np.array(k)"
      ],
      "execution_count": 93,
      "outputs": []
    },
    {
      "cell_type": "code",
      "metadata": {
        "colab": {
          "base_uri": "https://localhost:8080/"
        },
        "id": "co1PmtUOEPB6",
        "outputId": "8f8790ad-3842-4f6f-8379-8f139162bafb"
      },
      "source": [
        "print(k)"
      ],
      "execution_count": 94,
      "outputs": [
        {
          "output_type": "stream",
          "name": "stdout",
          "text": [
            "[[-1 -1 -1]\n",
            " [-1  4 -1]\n",
            " [-1 -1 -1]]\n"
          ]
        }
      ]
    },
    {
      "cell_type": "code",
      "metadata": {
        "id": "7wBsyrsAEYHk"
      },
      "source": [
        "w=([1,2,3,4,5,6,7,8],\n",
        "   [1,2,3,4,5,6,7,8],\n",
        "   [1,2,3,4,5,6,7,8],\n",
        "   [1,2,3,4,5,6,7,8],\n",
        "   [1,2,3,4,5,6,7,8],\n",
        "   [1,2,3,4,5,6,7,8],\n",
        "   [1,2,3,4,5,6,7,8],\n",
        "   [1,2,3,4,5,6,7,8])\n",
        "w=np.array(w)"
      ],
      "execution_count": 122,
      "outputs": []
    },
    {
      "cell_type": "code",
      "metadata": {
        "colab": {
          "base_uri": "https://localhost:8080/"
        },
        "id": "jjYljKAuEoLQ",
        "outputId": "1171a357-b8f8-47c8-8239-95cf20868670"
      },
      "source": [
        "print(w)"
      ],
      "execution_count": 123,
      "outputs": [
        {
          "output_type": "stream",
          "name": "stdout",
          "text": [
            "[[1 2 3 4 5 6 7 8]\n",
            " [1 2 3 4 5 6 7 8]\n",
            " [1 2 3 4 5 6 7 8]\n",
            " [1 2 3 4 5 6 7 8]\n",
            " [1 2 3 4 5 6 7 8]\n",
            " [1 2 3 4 5 6 7 8]\n",
            " [1 2 3 4 5 6 7 8]\n",
            " [1 2 3 4 5 6 7 8]]\n"
          ]
        }
      ]
    },
    {
      "cell_type": "code",
      "metadata": {
        "colab": {
          "base_uri": "https://localhost:8080/"
        },
        "id": "a4xSbKc2dHVp",
        "outputId": "90fd6baa-e7b5-4147-9791-2b49f2bdb80e"
      },
      "source": [
        "r=[]\n",
        "count = 0\n",
        "for i in range(len(w)-2):\n",
        "  for j in range(len(w)-2):\n",
        "    sub_matrix=(w[i:i+3,j:j+3])\n",
        "    count += 1\n",
        "    sum=0\n",
        "    for x in range(len(k)):\n",
        "      for y in range(len(k)):\n",
        "        sum +=((sub_matrix[x][y]) * (k[x][y]))\n",
        "    r.append(sum)\n",
        "print(count)"
      ],
      "execution_count": 135,
      "outputs": [
        {
          "output_type": "stream",
          "name": "stdout",
          "text": [
            "36\n"
          ]
        }
      ]
    },
    {
      "cell_type": "code",
      "metadata": {
        "id": "t-af5rmLiOMw"
      },
      "source": [
        "r=np.array(r)"
      ],
      "execution_count": 136,
      "outputs": []
    },
    {
      "cell_type": "code",
      "metadata": {
        "colab": {
          "base_uri": "https://localhost:8080/"
        },
        "id": "v6VBuciDigcK",
        "outputId": "e97d3efe-5137-4115-da6a-1f2c4a18f862"
      },
      "source": [
        "r.reshape(6,6)"
      ],
      "execution_count": 137,
      "outputs": [
        {
          "output_type": "execute_result",
          "data": {
            "text/plain": [
              "array([[ -8, -12, -16, -20, -24, -28],\n",
              "       [ -8, -12, -16, -20, -24, -28],\n",
              "       [ -8, -12, -16, -20, -24, -28],\n",
              "       [ -8, -12, -16, -20, -24, -28],\n",
              "       [ -8, -12, -16, -20, -24, -28],\n",
              "       [ -8, -12, -16, -20, -24, -28]])"
            ]
          },
          "metadata": {},
          "execution_count": 137
        }
      ]
    },
    {
      "cell_type": "markdown",
      "metadata": {
        "id": "L7Eqcgjd12YG"
      },
      "source": [
        "**Extend the program for any size of K provided K is a square one.**"
      ]
    },
    {
      "cell_type": "code",
      "metadata": {
        "colab": {
          "base_uri": "https://localhost:8080/"
        },
        "id": "E6MoZ-P52BKb",
        "outputId": "aebeea23-b468-4e3f-e77d-7839f289afc0"
      },
      "source": [
        "n=int(input(\"Provide the size of  square matrix\"))"
      ],
      "execution_count": 168,
      "outputs": [
        {
          "name": "stdout",
          "output_type": "stream",
          "text": [
            "Provide the size of  square matrix3\n"
          ]
        }
      ]
    },
    {
      "cell_type": "code",
      "metadata": {
        "colab": {
          "base_uri": "https://localhost:8080/"
        },
        "id": "iG7gIXkh2ew1",
        "outputId": "4d7b9374-efe4-4a5e-8072-c6356c8006c9"
      },
      "source": [
        "k_matrix =[]\n",
        "for i in range (n):\n",
        "  tmp = []\n",
        "  for j in range (n):\n",
        "    tmp.append(int(input(\"Enter the element\")))\n",
        "  k_matrix.append(tmp)\n",
        "k_matrix=np.array(k_matrix)\n",
        "print(k_matrix)"
      ],
      "execution_count": 169,
      "outputs": [
        {
          "output_type": "stream",
          "name": "stdout",
          "text": [
            "Enter the element-1\n",
            "Enter the element-1\n",
            "Enter the element-1\n",
            "Enter the element-1\n",
            "Enter the element4\n",
            "Enter the element-1\n",
            "Enter the element-1\n",
            "Enter the element-1\n",
            "Enter the element-1\n",
            "[[-1 -1 -1]\n",
            " [-1  4 -1]\n",
            " [-1 -1 -1]]\n"
          ]
        }
      ]
    },
    {
      "cell_type": "code",
      "metadata": {
        "colab": {
          "base_uri": "https://localhost:8080/"
        },
        "id": "8-cjoeiO0h9q",
        "outputId": "a1dc0de0-6059-4d79-e66f-f4393edb1c53"
      },
      "source": [
        "r=[]\n",
        "count = 0\n",
        "for i in range(len(w)-(n-1)):\n",
        "  for j in range(len(w)-(n-1)):\n",
        "    sub_matrix=(w[i:i+n,j:j+n])\n",
        "    count += 1\n",
        "    sum=0\n",
        "    for x in range(len(k_matrix)):\n",
        "      for y in range(len(k_matrix)):\n",
        "        sum +=((sub_matrix[x][y]) * (k_matrix[x][y]))\n",
        "    r.append(sum)\n",
        "print(count)"
      ],
      "execution_count": 170,
      "outputs": [
        {
          "output_type": "stream",
          "name": "stdout",
          "text": [
            "36\n"
          ]
        }
      ]
    },
    {
      "cell_type": "code",
      "metadata": {
        "colab": {
          "base_uri": "https://localhost:8080/"
        },
        "id": "2HGpwvhQ7YuJ",
        "outputId": "b0d1febb-3f05-4fae-99d4-268145ee0b7f"
      },
      "source": [
        "size=int(count/2)\n",
        "for i in range (2,size):\n",
        "  if (int(count/i) == i):\n",
        "    m=i\n",
        "    break\n",
        "print(m)"
      ],
      "execution_count": 171,
      "outputs": [
        {
          "output_type": "stream",
          "name": "stdout",
          "text": [
            "6\n"
          ]
        }
      ]
    },
    {
      "cell_type": "code",
      "metadata": {
        "colab": {
          "base_uri": "https://localhost:8080/"
        },
        "id": "YK56qBeK43y_",
        "outputId": "931e2f99-70a3-4b70-fcf1-d7c1ab8224ea"
      },
      "source": [
        "r=np.array(r)\n",
        "r.reshape(m,m)"
      ],
      "execution_count": 172,
      "outputs": [
        {
          "output_type": "execute_result",
          "data": {
            "text/plain": [
              "array([[ -8, -12, -16, -20, -24, -28],\n",
              "       [ -8, -12, -16, -20, -24, -28],\n",
              "       [ -8, -12, -16, -20, -24, -28],\n",
              "       [ -8, -12, -16, -20, -24, -28],\n",
              "       [ -8, -12, -16, -20, -24, -28],\n",
              "       [ -8, -12, -16, -20, -24, -28]])"
            ]
          },
          "metadata": {},
          "execution_count": 172
        }
      ]
    }
  ]
}